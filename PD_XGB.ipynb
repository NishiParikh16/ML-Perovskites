{
  "nbformat": 4,
  "nbformat_minor": 0,
  "metadata": {
    "colab": {
      "provenance": []
    },
    "kernelspec": {
      "name": "python3",
      "display_name": "Python 3"
    },
    "language_info": {
      "name": "python"
    }
  },
  "cells": [
    {
      "cell_type": "code",
      "execution_count": null,
      "metadata": {
        "id": "6GlFtsmP7dgL"
      },
      "outputs": [],
      "source": [
        "import pandas as pd\n",
        "import seaborn as sns\n",
        "import matplotlib.pyplot as plt\n",
        "import numpy as np  \n",
        "import matplotlib.pyplot as plt\n",
        "from sklearn.ensemble import RandomForestRegressor\n",
        "from sklearn.model_selection import train_test_split\n",
        "from sklearn.utils import shuffle\n",
        "from sklearn.multioutput import MultiOutputRegressor\n",
        "from sklearn.gaussian_process import GaussianProcessRegressor"
      ]
    },
    {
      "cell_type": "code",
      "source": [
        "dataset = pd.read_csv(\"/content/Dataset.csv\", sep = ',')\n",
        "dataset"
      ],
      "metadata": {
        "colab": {
          "base_uri": "https://localhost:8080/",
          "height": 555
        },
        "id": "0TU8GQao8d1b",
        "outputId": "cf682e13-52ca-4b17-c841-22df76536420"
      },
      "execution_count": null,
      "outputs": [
        {
          "output_type": "execute_result",
          "data": {
            "text/plain": [
              "                      Formula  n value Space Group  Layer Shift Factor (t1)  \\\n",
              "0       (C5H11(NH3)2(MA)Pb2I7        2         P-1                     0.14   \n",
              "1                  (PEA)2PbI4        1         P-1                     0.14   \n",
              "2   (C4H9NH3)2(CH3NH3)2(Pb)I4        1        Pbca                     0.49   \n",
              "3     (C4H9NH3)2(CH3NH3)Pb2I7        2        Cmcm                     0.50   \n",
              "4   (C4H9NH3)3(CH3NH3)2Pb3I10        3        Cmca                     0.50   \n",
              "..                        ...      ...         ...                      ...   \n",
              "59     (BA)2PbI4 (G-Au-P-PDs)        1        Pbca                     0.49   \n",
              "60        (BA)2FAPb2I7(P-PDs)        2        Cmcm                     0.50   \n",
              "61      (BA)2FAPb2I7(G-P-PDs)        2        Cmcm                     0.50   \n",
              "62   (BA)2FAPb2I7(G-Au-P-PDs)        2        Cmcm                     0.50   \n",
              "63          (PEA)2(MA)2Pb3I10        3          P1                     0.15   \n",
              "\n",
              "    Layer Shift Factor (t2)  Bandgap            Cation Name Anion Name  \\\n",
              "0                      0.50     1.96  Phenyl Ethyl Amonium      Iodide   \n",
              "1                      0.50     2.06  Phenyl Ethyl Amonium      Iodide   \n",
              "2                      0.50     2.30           Butyl Ammine     Iodide   \n",
              "3                      0.50     1.96           Butyl Ammine     Iodide   \n",
              "4                      0.50     1.86           Butyl Ammine     Iodide   \n",
              "..                      ...      ...                    ...        ...   \n",
              "59                     0.50     2.30           Butyl Ammine     Iodide   \n",
              "60                     0.50     1.96           Butyl Ammine     Iodide   \n",
              "61                     0.50     1.96           Butyl Ammine     Iodide   \n",
              "62                     0.50     1.96           Butyl Ammine     Iodide   \n",
              "63                     0.46     2.06  Phenyl Ethyl Amonium      Iodide   \n",
              "\n",
              "    Anion Size (ionic radius-pm)  Bias  Light Intensity (w/cm2)  \\\n",
              "0                            206   9.5             8.000000e-03   \n",
              "1                            206   5.0             1.000000e-01   \n",
              "2                            206   0.3             2.000000e-04   \n",
              "3                            206   0.3             2.000000e-04   \n",
              "4                            206   0.3             2.000000e-04   \n",
              "..                           ...   ...                      ...   \n",
              "59                           206   2.0             2.500000e-07   \n",
              "60                           206   2.0             2.500000e-07   \n",
              "61                           206   2.0             2.500000e-07   \n",
              "62                           206   2.0             2.500000e-07   \n",
              "63                           206   9.0             3.800000e-08   \n",
              "\n",
              "    Light Intensity (nM)  Responsvity R (A W-1)  \n",
              "0                      0                0.00387  \n",
              "1                      0                0.00540  \n",
              "2                      0                0.00100  \n",
              "3                      0                0.01000  \n",
              "4                      0                0.01000  \n",
              "..                   ...                    ...  \n",
              "59                     0                5.03000  \n",
              "60                     0                0.16000  \n",
              "61                     0               12.25000  \n",
              "62                     0               18.71000  \n",
              "63                     0              149.00000  \n",
              "\n",
              "[64 rows x 13 columns]"
            ],
            "text/html": [
              "\n",
              "  <div id=\"df-066c4c95-789b-4754-bdd2-4986a2672295\">\n",
              "    <div class=\"colab-df-container\">\n",
              "      <div>\n",
              "<style scoped>\n",
              "    .dataframe tbody tr th:only-of-type {\n",
              "        vertical-align: middle;\n",
              "    }\n",
              "\n",
              "    .dataframe tbody tr th {\n",
              "        vertical-align: top;\n",
              "    }\n",
              "\n",
              "    .dataframe thead th {\n",
              "        text-align: right;\n",
              "    }\n",
              "</style>\n",
              "<table border=\"1\" class=\"dataframe\">\n",
              "  <thead>\n",
              "    <tr style=\"text-align: right;\">\n",
              "      <th></th>\n",
              "      <th>Formula</th>\n",
              "      <th>n value</th>\n",
              "      <th>Space Group</th>\n",
              "      <th>Layer Shift Factor (t1)</th>\n",
              "      <th>Layer Shift Factor (t2)</th>\n",
              "      <th>Bandgap</th>\n",
              "      <th>Cation Name</th>\n",
              "      <th>Anion Name</th>\n",
              "      <th>Anion Size (ionic radius-pm)</th>\n",
              "      <th>Bias</th>\n",
              "      <th>Light Intensity (w/cm2)</th>\n",
              "      <th>Light Intensity (nM)</th>\n",
              "      <th>Responsvity R (A W-1)</th>\n",
              "    </tr>\n",
              "  </thead>\n",
              "  <tbody>\n",
              "    <tr>\n",
              "      <th>0</th>\n",
              "      <td>(C5H11(NH3)2(MA)Pb2I7</td>\n",
              "      <td>2</td>\n",
              "      <td>P-1</td>\n",
              "      <td>0.14</td>\n",
              "      <td>0.50</td>\n",
              "      <td>1.96</td>\n",
              "      <td>Phenyl Ethyl Amonium</td>\n",
              "      <td>Iodide</td>\n",
              "      <td>206</td>\n",
              "      <td>9.5</td>\n",
              "      <td>8.000000e-03</td>\n",
              "      <td>0</td>\n",
              "      <td>0.00387</td>\n",
              "    </tr>\n",
              "    <tr>\n",
              "      <th>1</th>\n",
              "      <td>(PEA)2PbI4</td>\n",
              "      <td>1</td>\n",
              "      <td>P-1</td>\n",
              "      <td>0.14</td>\n",
              "      <td>0.50</td>\n",
              "      <td>2.06</td>\n",
              "      <td>Phenyl Ethyl Amonium</td>\n",
              "      <td>Iodide</td>\n",
              "      <td>206</td>\n",
              "      <td>5.0</td>\n",
              "      <td>1.000000e-01</td>\n",
              "      <td>0</td>\n",
              "      <td>0.00540</td>\n",
              "    </tr>\n",
              "    <tr>\n",
              "      <th>2</th>\n",
              "      <td>(C4H9NH3)2(CH3NH3)2(Pb)I4</td>\n",
              "      <td>1</td>\n",
              "      <td>Pbca</td>\n",
              "      <td>0.49</td>\n",
              "      <td>0.50</td>\n",
              "      <td>2.30</td>\n",
              "      <td>Butyl Ammine</td>\n",
              "      <td>Iodide</td>\n",
              "      <td>206</td>\n",
              "      <td>0.3</td>\n",
              "      <td>2.000000e-04</td>\n",
              "      <td>0</td>\n",
              "      <td>0.00100</td>\n",
              "    </tr>\n",
              "    <tr>\n",
              "      <th>3</th>\n",
              "      <td>(C4H9NH3)2(CH3NH3)Pb2I7</td>\n",
              "      <td>2</td>\n",
              "      <td>Cmcm</td>\n",
              "      <td>0.50</td>\n",
              "      <td>0.50</td>\n",
              "      <td>1.96</td>\n",
              "      <td>Butyl Ammine</td>\n",
              "      <td>Iodide</td>\n",
              "      <td>206</td>\n",
              "      <td>0.3</td>\n",
              "      <td>2.000000e-04</td>\n",
              "      <td>0</td>\n",
              "      <td>0.01000</td>\n",
              "    </tr>\n",
              "    <tr>\n",
              "      <th>4</th>\n",
              "      <td>(C4H9NH3)3(CH3NH3)2Pb3I10</td>\n",
              "      <td>3</td>\n",
              "      <td>Cmca</td>\n",
              "      <td>0.50</td>\n",
              "      <td>0.50</td>\n",
              "      <td>1.86</td>\n",
              "      <td>Butyl Ammine</td>\n",
              "      <td>Iodide</td>\n",
              "      <td>206</td>\n",
              "      <td>0.3</td>\n",
              "      <td>2.000000e-04</td>\n",
              "      <td>0</td>\n",
              "      <td>0.01000</td>\n",
              "    </tr>\n",
              "    <tr>\n",
              "      <th>...</th>\n",
              "      <td>...</td>\n",
              "      <td>...</td>\n",
              "      <td>...</td>\n",
              "      <td>...</td>\n",
              "      <td>...</td>\n",
              "      <td>...</td>\n",
              "      <td>...</td>\n",
              "      <td>...</td>\n",
              "      <td>...</td>\n",
              "      <td>...</td>\n",
              "      <td>...</td>\n",
              "      <td>...</td>\n",
              "      <td>...</td>\n",
              "    </tr>\n",
              "    <tr>\n",
              "      <th>59</th>\n",
              "      <td>(BA)2PbI4 (G-Au-P-PDs)</td>\n",
              "      <td>1</td>\n",
              "      <td>Pbca</td>\n",
              "      <td>0.49</td>\n",
              "      <td>0.50</td>\n",
              "      <td>2.30</td>\n",
              "      <td>Butyl Ammine</td>\n",
              "      <td>Iodide</td>\n",
              "      <td>206</td>\n",
              "      <td>2.0</td>\n",
              "      <td>2.500000e-07</td>\n",
              "      <td>0</td>\n",
              "      <td>5.03000</td>\n",
              "    </tr>\n",
              "    <tr>\n",
              "      <th>60</th>\n",
              "      <td>(BA)2FAPb2I7(P-PDs)</td>\n",
              "      <td>2</td>\n",
              "      <td>Cmcm</td>\n",
              "      <td>0.50</td>\n",
              "      <td>0.50</td>\n",
              "      <td>1.96</td>\n",
              "      <td>Butyl Ammine</td>\n",
              "      <td>Iodide</td>\n",
              "      <td>206</td>\n",
              "      <td>2.0</td>\n",
              "      <td>2.500000e-07</td>\n",
              "      <td>0</td>\n",
              "      <td>0.16000</td>\n",
              "    </tr>\n",
              "    <tr>\n",
              "      <th>61</th>\n",
              "      <td>(BA)2FAPb2I7(G-P-PDs)</td>\n",
              "      <td>2</td>\n",
              "      <td>Cmcm</td>\n",
              "      <td>0.50</td>\n",
              "      <td>0.50</td>\n",
              "      <td>1.96</td>\n",
              "      <td>Butyl Ammine</td>\n",
              "      <td>Iodide</td>\n",
              "      <td>206</td>\n",
              "      <td>2.0</td>\n",
              "      <td>2.500000e-07</td>\n",
              "      <td>0</td>\n",
              "      <td>12.25000</td>\n",
              "    </tr>\n",
              "    <tr>\n",
              "      <th>62</th>\n",
              "      <td>(BA)2FAPb2I7(G-Au-P-PDs)</td>\n",
              "      <td>2</td>\n",
              "      <td>Cmcm</td>\n",
              "      <td>0.50</td>\n",
              "      <td>0.50</td>\n",
              "      <td>1.96</td>\n",
              "      <td>Butyl Ammine</td>\n",
              "      <td>Iodide</td>\n",
              "      <td>206</td>\n",
              "      <td>2.0</td>\n",
              "      <td>2.500000e-07</td>\n",
              "      <td>0</td>\n",
              "      <td>18.71000</td>\n",
              "    </tr>\n",
              "    <tr>\n",
              "      <th>63</th>\n",
              "      <td>(PEA)2(MA)2Pb3I10</td>\n",
              "      <td>3</td>\n",
              "      <td>P1</td>\n",
              "      <td>0.15</td>\n",
              "      <td>0.46</td>\n",
              "      <td>2.06</td>\n",
              "      <td>Phenyl Ethyl Amonium</td>\n",
              "      <td>Iodide</td>\n",
              "      <td>206</td>\n",
              "      <td>9.0</td>\n",
              "      <td>3.800000e-08</td>\n",
              "      <td>0</td>\n",
              "      <td>149.00000</td>\n",
              "    </tr>\n",
              "  </tbody>\n",
              "</table>\n",
              "<p>64 rows × 13 columns</p>\n",
              "</div>\n",
              "      <button class=\"colab-df-convert\" onclick=\"convertToInteractive('df-066c4c95-789b-4754-bdd2-4986a2672295')\"\n",
              "              title=\"Convert this dataframe to an interactive table.\"\n",
              "              style=\"display:none;\">\n",
              "        \n",
              "  <svg xmlns=\"http://www.w3.org/2000/svg\" height=\"24px\"viewBox=\"0 0 24 24\"\n",
              "       width=\"24px\">\n",
              "    <path d=\"M0 0h24v24H0V0z\" fill=\"none\"/>\n",
              "    <path d=\"M18.56 5.44l.94 2.06.94-2.06 2.06-.94-2.06-.94-.94-2.06-.94 2.06-2.06.94zm-11 1L8.5 8.5l.94-2.06 2.06-.94-2.06-.94L8.5 2.5l-.94 2.06-2.06.94zm10 10l.94 2.06.94-2.06 2.06-.94-2.06-.94-.94-2.06-.94 2.06-2.06.94z\"/><path d=\"M17.41 7.96l-1.37-1.37c-.4-.4-.92-.59-1.43-.59-.52 0-1.04.2-1.43.59L10.3 9.45l-7.72 7.72c-.78.78-.78 2.05 0 2.83L4 21.41c.39.39.9.59 1.41.59.51 0 1.02-.2 1.41-.59l7.78-7.78 2.81-2.81c.8-.78.8-2.07 0-2.86zM5.41 20L4 18.59l7.72-7.72 1.47 1.35L5.41 20z\"/>\n",
              "  </svg>\n",
              "      </button>\n",
              "      \n",
              "  <style>\n",
              "    .colab-df-container {\n",
              "      display:flex;\n",
              "      flex-wrap:wrap;\n",
              "      gap: 12px;\n",
              "    }\n",
              "\n",
              "    .colab-df-convert {\n",
              "      background-color: #E8F0FE;\n",
              "      border: none;\n",
              "      border-radius: 50%;\n",
              "      cursor: pointer;\n",
              "      display: none;\n",
              "      fill: #1967D2;\n",
              "      height: 32px;\n",
              "      padding: 0 0 0 0;\n",
              "      width: 32px;\n",
              "    }\n",
              "\n",
              "    .colab-df-convert:hover {\n",
              "      background-color: #E2EBFA;\n",
              "      box-shadow: 0px 1px 2px rgba(60, 64, 67, 0.3), 0px 1px 3px 1px rgba(60, 64, 67, 0.15);\n",
              "      fill: #174EA6;\n",
              "    }\n",
              "\n",
              "    [theme=dark] .colab-df-convert {\n",
              "      background-color: #3B4455;\n",
              "      fill: #D2E3FC;\n",
              "    }\n",
              "\n",
              "    [theme=dark] .colab-df-convert:hover {\n",
              "      background-color: #434B5C;\n",
              "      box-shadow: 0px 1px 3px 1px rgba(0, 0, 0, 0.15);\n",
              "      filter: drop-shadow(0px 1px 2px rgba(0, 0, 0, 0.3));\n",
              "      fill: #FFFFFF;\n",
              "    }\n",
              "  </style>\n",
              "\n",
              "      <script>\n",
              "        const buttonEl =\n",
              "          document.querySelector('#df-066c4c95-789b-4754-bdd2-4986a2672295 button.colab-df-convert');\n",
              "        buttonEl.style.display =\n",
              "          google.colab.kernel.accessAllowed ? 'block' : 'none';\n",
              "\n",
              "        async function convertToInteractive(key) {\n",
              "          const element = document.querySelector('#df-066c4c95-789b-4754-bdd2-4986a2672295');\n",
              "          const dataTable =\n",
              "            await google.colab.kernel.invokeFunction('convertToInteractive',\n",
              "                                                     [key], {});\n",
              "          if (!dataTable) return;\n",
              "\n",
              "          const docLinkHtml = 'Like what you see? Visit the ' +\n",
              "            '<a target=\"_blank\" href=https://colab.research.google.com/notebooks/data_table.ipynb>data table notebook</a>'\n",
              "            + ' to learn more about interactive tables.';\n",
              "          element.innerHTML = '';\n",
              "          dataTable['output_type'] = 'display_data';\n",
              "          await google.colab.output.renderOutput(dataTable, element);\n",
              "          const docLink = document.createElement('div');\n",
              "          docLink.innerHTML = docLinkHtml;\n",
              "          element.appendChild(docLink);\n",
              "        }\n",
              "      </script>\n",
              "    </div>\n",
              "  </div>\n",
              "  "
            ]
          },
          "metadata": {},
          "execution_count": 41
        }
      ]
    },
    {
      "cell_type": "code",
      "source": [
        "dataset['Formula'].unique()\n",
        "\n",
        "# Import label encoder\n",
        "from sklearn import preprocessing\n",
        "  \n",
        "label_encoder = preprocessing.LabelEncoder()\n",
        "  \n",
        "dataset['Formula']= label_encoder.fit_transform(dataset['Formula'])\n",
        "  \n",
        "dataset['Formula'].unique()"
      ],
      "metadata": {
        "colab": {
          "base_uri": "https://localhost:8080/"
        },
        "id": "Gh1JXREH8plx",
        "outputId": "fb4ca2fd-4748-4956-ffa3-5cf132c22816"
      },
      "execution_count": null,
      "outputs": [
        {
          "output_type": "execute_result",
          "data": {
            "text/plain": [
              "array([18, 24, 11, 15, 16, 17, 31, 12, 13, 14, 25, 29, 20,  4, 26, 22,  5,\n",
              "       19, 30,  7,  2, 28,  3, 23, 27, 10,  9,  8,  6,  1,  0, 21])"
            ]
          },
          "metadata": {},
          "execution_count": 43
        }
      ]
    },
    {
      "cell_type": "code",
      "source": [
        "dataset['Space Group'].unique()\n",
        "\n",
        "\n",
        "  .\n",
        "label_encoder = preprocessing.LabelEncoder()\n",
        "  \n",
        "dataset['Space Group']= label_encoder.fit_transform(dataset['Space Group'])\n",
        "  \n",
        "dataset['Space Group'].unique()"
      ],
      "metadata": {
        "colab": {
          "base_uri": "https://localhost:8080/"
        },
        "id": "VC6Fyno28tfI",
        "outputId": "3d5b2ac7-722c-4e48-be6b-7db8c7cba803"
      },
      "execution_count": null,
      "outputs": [
        {
          "output_type": "execute_result",
          "data": {
            "text/plain": [
              "array([4, 7, 3, 2, 0, 6, 1, 5])"
            ]
          },
          "metadata": {},
          "execution_count": 44
        }
      ]
    },
    {
      "cell_type": "code",
      "source": [
        "dataset['Cation Name'].unique()\n",
        "\n",
        "label_encoder = preprocessing.LabelEncoder()\n",
        "  \n",
        "dataset['Cation Name']= label_encoder.fit_transform(dataset['Cation Name'])\n",
        "  \n",
        "dataset['Cation Name'].unique()"
      ],
      "metadata": {
        "colab": {
          "base_uri": "https://localhost:8080/"
        },
        "id": "0RQtC2dH8wIB",
        "outputId": "a10903f9-55d4-4aad-a1bc-e637bcf2eccf"
      },
      "execution_count": null,
      "outputs": [
        {
          "output_type": "execute_result",
          "data": {
            "text/plain": [
              "array([6, 1, 5, 4, 0, 3, 2])"
            ]
          },
          "metadata": {},
          "execution_count": 45
        }
      ]
    },
    {
      "cell_type": "code",
      "source": [
        "dataset['Anion Name'].unique()\n",
        "\n",
        "dataset['Anion Name']= label_encoder.fit_transform(dataset['Anion Name'])\n",
        "  \n",
        "dataset['Anion Name'].unique()"
      ],
      "metadata": {
        "colab": {
          "base_uri": "https://localhost:8080/"
        },
        "id": "JzVn3eTB8yOw",
        "outputId": "3a17f75d-0f6d-4af1-8f39-d0359939bd7e"
      },
      "execution_count": null,
      "outputs": [
        {
          "output_type": "execute_result",
          "data": {
            "text/plain": [
              "array([1, 0])"
            ]
          },
          "metadata": {},
          "execution_count": 46
        }
      ]
    },
    {
      "cell_type": "code",
      "source": [
        "dataset"
      ],
      "metadata": {
        "colab": {
          "base_uri": "https://localhost:8080/",
          "height": 485
        },
        "id": "B3GC9nda0yp3",
        "outputId": "2ace7933-ceeb-4028-d194-e6896fd2ce77"
      },
      "execution_count": null,
      "outputs": [
        {
          "output_type": "execute_result",
          "data": {
            "text/plain": [
              "    Formula  n value  Space Group  Layer Shift Factor (t1)  \\\n",
              "0        18        2            4                     0.14   \n",
              "1        24        1            4                     0.14   \n",
              "2        11        1            7                     0.49   \n",
              "3        15        2            3                     0.50   \n",
              "4        16        3            2                     0.50   \n",
              "..      ...      ...          ...                      ...   \n",
              "59        8        1            7                     0.49   \n",
              "60        6        2            3                     0.50   \n",
              "61        1        2            3                     0.50   \n",
              "62        0        2            3                     0.50   \n",
              "63       21        3            5                     0.15   \n",
              "\n",
              "    Layer Shift Factor (t2)  Bandgap  Cation Name  Anion Name  \\\n",
              "0                      0.50     1.96            6           1   \n",
              "1                      0.50     2.06            6           1   \n",
              "2                      0.50     2.30            1           1   \n",
              "3                      0.50     1.96            1           1   \n",
              "4                      0.50     1.86            1           1   \n",
              "..                      ...      ...          ...         ...   \n",
              "59                     0.50     2.30            1           1   \n",
              "60                     0.50     1.96            1           1   \n",
              "61                     0.50     1.96            1           1   \n",
              "62                     0.50     1.96            1           1   \n",
              "63                     0.46     2.06            6           1   \n",
              "\n",
              "    Anion Size (ionic radius-pm)  Bias  Light Intensity (w/cm2)  \\\n",
              "0                            206   9.5             8.000000e-03   \n",
              "1                            206   5.0             1.000000e-01   \n",
              "2                            206   0.3             2.000000e-04   \n",
              "3                            206   0.3             2.000000e-04   \n",
              "4                            206   0.3             2.000000e-04   \n",
              "..                           ...   ...                      ...   \n",
              "59                           206   2.0             2.500000e-07   \n",
              "60                           206   2.0             2.500000e-07   \n",
              "61                           206   2.0             2.500000e-07   \n",
              "62                           206   2.0             2.500000e-07   \n",
              "63                           206   9.0             3.800000e-08   \n",
              "\n",
              "    Light Intensity (nM)  Responsvity R (A W-1)  \n",
              "0                      0                0.00387  \n",
              "1                      0                0.00540  \n",
              "2                      0                0.00100  \n",
              "3                      0                0.01000  \n",
              "4                      0                0.01000  \n",
              "..                   ...                    ...  \n",
              "59                     0                5.03000  \n",
              "60                     0                0.16000  \n",
              "61                     0               12.25000  \n",
              "62                     0               18.71000  \n",
              "63                     0              149.00000  \n",
              "\n",
              "[64 rows x 13 columns]"
            ],
            "text/html": [
              "\n",
              "  <div id=\"df-c3d068ee-e5ca-44a3-859e-312a5655ad71\">\n",
              "    <div class=\"colab-df-container\">\n",
              "      <div>\n",
              "<style scoped>\n",
              "    .dataframe tbody tr th:only-of-type {\n",
              "        vertical-align: middle;\n",
              "    }\n",
              "\n",
              "    .dataframe tbody tr th {\n",
              "        vertical-align: top;\n",
              "    }\n",
              "\n",
              "    .dataframe thead th {\n",
              "        text-align: right;\n",
              "    }\n",
              "</style>\n",
              "<table border=\"1\" class=\"dataframe\">\n",
              "  <thead>\n",
              "    <tr style=\"text-align: right;\">\n",
              "      <th></th>\n",
              "      <th>Formula</th>\n",
              "      <th>n value</th>\n",
              "      <th>Space Group</th>\n",
              "      <th>Layer Shift Factor (t1)</th>\n",
              "      <th>Layer Shift Factor (t2)</th>\n",
              "      <th>Bandgap</th>\n",
              "      <th>Cation Name</th>\n",
              "      <th>Anion Name</th>\n",
              "      <th>Anion Size (ionic radius-pm)</th>\n",
              "      <th>Bias</th>\n",
              "      <th>Light Intensity (w/cm2)</th>\n",
              "      <th>Light Intensity (nM)</th>\n",
              "      <th>Responsvity R (A W-1)</th>\n",
              "    </tr>\n",
              "  </thead>\n",
              "  <tbody>\n",
              "    <tr>\n",
              "      <th>0</th>\n",
              "      <td>18</td>\n",
              "      <td>2</td>\n",
              "      <td>4</td>\n",
              "      <td>0.14</td>\n",
              "      <td>0.50</td>\n",
              "      <td>1.96</td>\n",
              "      <td>6</td>\n",
              "      <td>1</td>\n",
              "      <td>206</td>\n",
              "      <td>9.5</td>\n",
              "      <td>8.000000e-03</td>\n",
              "      <td>0</td>\n",
              "      <td>0.00387</td>\n",
              "    </tr>\n",
              "    <tr>\n",
              "      <th>1</th>\n",
              "      <td>24</td>\n",
              "      <td>1</td>\n",
              "      <td>4</td>\n",
              "      <td>0.14</td>\n",
              "      <td>0.50</td>\n",
              "      <td>2.06</td>\n",
              "      <td>6</td>\n",
              "      <td>1</td>\n",
              "      <td>206</td>\n",
              "      <td>5.0</td>\n",
              "      <td>1.000000e-01</td>\n",
              "      <td>0</td>\n",
              "      <td>0.00540</td>\n",
              "    </tr>\n",
              "    <tr>\n",
              "      <th>2</th>\n",
              "      <td>11</td>\n",
              "      <td>1</td>\n",
              "      <td>7</td>\n",
              "      <td>0.49</td>\n",
              "      <td>0.50</td>\n",
              "      <td>2.30</td>\n",
              "      <td>1</td>\n",
              "      <td>1</td>\n",
              "      <td>206</td>\n",
              "      <td>0.3</td>\n",
              "      <td>2.000000e-04</td>\n",
              "      <td>0</td>\n",
              "      <td>0.00100</td>\n",
              "    </tr>\n",
              "    <tr>\n",
              "      <th>3</th>\n",
              "      <td>15</td>\n",
              "      <td>2</td>\n",
              "      <td>3</td>\n",
              "      <td>0.50</td>\n",
              "      <td>0.50</td>\n",
              "      <td>1.96</td>\n",
              "      <td>1</td>\n",
              "      <td>1</td>\n",
              "      <td>206</td>\n",
              "      <td>0.3</td>\n",
              "      <td>2.000000e-04</td>\n",
              "      <td>0</td>\n",
              "      <td>0.01000</td>\n",
              "    </tr>\n",
              "    <tr>\n",
              "      <th>4</th>\n",
              "      <td>16</td>\n",
              "      <td>3</td>\n",
              "      <td>2</td>\n",
              "      <td>0.50</td>\n",
              "      <td>0.50</td>\n",
              "      <td>1.86</td>\n",
              "      <td>1</td>\n",
              "      <td>1</td>\n",
              "      <td>206</td>\n",
              "      <td>0.3</td>\n",
              "      <td>2.000000e-04</td>\n",
              "      <td>0</td>\n",
              "      <td>0.01000</td>\n",
              "    </tr>\n",
              "    <tr>\n",
              "      <th>...</th>\n",
              "      <td>...</td>\n",
              "      <td>...</td>\n",
              "      <td>...</td>\n",
              "      <td>...</td>\n",
              "      <td>...</td>\n",
              "      <td>...</td>\n",
              "      <td>...</td>\n",
              "      <td>...</td>\n",
              "      <td>...</td>\n",
              "      <td>...</td>\n",
              "      <td>...</td>\n",
              "      <td>...</td>\n",
              "      <td>...</td>\n",
              "    </tr>\n",
              "    <tr>\n",
              "      <th>59</th>\n",
              "      <td>8</td>\n",
              "      <td>1</td>\n",
              "      <td>7</td>\n",
              "      <td>0.49</td>\n",
              "      <td>0.50</td>\n",
              "      <td>2.30</td>\n",
              "      <td>1</td>\n",
              "      <td>1</td>\n",
              "      <td>206</td>\n",
              "      <td>2.0</td>\n",
              "      <td>2.500000e-07</td>\n",
              "      <td>0</td>\n",
              "      <td>5.03000</td>\n",
              "    </tr>\n",
              "    <tr>\n",
              "      <th>60</th>\n",
              "      <td>6</td>\n",
              "      <td>2</td>\n",
              "      <td>3</td>\n",
              "      <td>0.50</td>\n",
              "      <td>0.50</td>\n",
              "      <td>1.96</td>\n",
              "      <td>1</td>\n",
              "      <td>1</td>\n",
              "      <td>206</td>\n",
              "      <td>2.0</td>\n",
              "      <td>2.500000e-07</td>\n",
              "      <td>0</td>\n",
              "      <td>0.16000</td>\n",
              "    </tr>\n",
              "    <tr>\n",
              "      <th>61</th>\n",
              "      <td>1</td>\n",
              "      <td>2</td>\n",
              "      <td>3</td>\n",
              "      <td>0.50</td>\n",
              "      <td>0.50</td>\n",
              "      <td>1.96</td>\n",
              "      <td>1</td>\n",
              "      <td>1</td>\n",
              "      <td>206</td>\n",
              "      <td>2.0</td>\n",
              "      <td>2.500000e-07</td>\n",
              "      <td>0</td>\n",
              "      <td>12.25000</td>\n",
              "    </tr>\n",
              "    <tr>\n",
              "      <th>62</th>\n",
              "      <td>0</td>\n",
              "      <td>2</td>\n",
              "      <td>3</td>\n",
              "      <td>0.50</td>\n",
              "      <td>0.50</td>\n",
              "      <td>1.96</td>\n",
              "      <td>1</td>\n",
              "      <td>1</td>\n",
              "      <td>206</td>\n",
              "      <td>2.0</td>\n",
              "      <td>2.500000e-07</td>\n",
              "      <td>0</td>\n",
              "      <td>18.71000</td>\n",
              "    </tr>\n",
              "    <tr>\n",
              "      <th>63</th>\n",
              "      <td>21</td>\n",
              "      <td>3</td>\n",
              "      <td>5</td>\n",
              "      <td>0.15</td>\n",
              "      <td>0.46</td>\n",
              "      <td>2.06</td>\n",
              "      <td>6</td>\n",
              "      <td>1</td>\n",
              "      <td>206</td>\n",
              "      <td>9.0</td>\n",
              "      <td>3.800000e-08</td>\n",
              "      <td>0</td>\n",
              "      <td>149.00000</td>\n",
              "    </tr>\n",
              "  </tbody>\n",
              "</table>\n",
              "<p>64 rows × 13 columns</p>\n",
              "</div>\n",
              "      <button class=\"colab-df-convert\" onclick=\"convertToInteractive('df-c3d068ee-e5ca-44a3-859e-312a5655ad71')\"\n",
              "              title=\"Convert this dataframe to an interactive table.\"\n",
              "              style=\"display:none;\">\n",
              "        \n",
              "  <svg xmlns=\"http://www.w3.org/2000/svg\" height=\"24px\"viewBox=\"0 0 24 24\"\n",
              "       width=\"24px\">\n",
              "    <path d=\"M0 0h24v24H0V0z\" fill=\"none\"/>\n",
              "    <path d=\"M18.56 5.44l.94 2.06.94-2.06 2.06-.94-2.06-.94-.94-2.06-.94 2.06-2.06.94zm-11 1L8.5 8.5l.94-2.06 2.06-.94-2.06-.94L8.5 2.5l-.94 2.06-2.06.94zm10 10l.94 2.06.94-2.06 2.06-.94-2.06-.94-.94-2.06-.94 2.06-2.06.94z\"/><path d=\"M17.41 7.96l-1.37-1.37c-.4-.4-.92-.59-1.43-.59-.52 0-1.04.2-1.43.59L10.3 9.45l-7.72 7.72c-.78.78-.78 2.05 0 2.83L4 21.41c.39.39.9.59 1.41.59.51 0 1.02-.2 1.41-.59l7.78-7.78 2.81-2.81c.8-.78.8-2.07 0-2.86zM5.41 20L4 18.59l7.72-7.72 1.47 1.35L5.41 20z\"/>\n",
              "  </svg>\n",
              "      </button>\n",
              "      \n",
              "  <style>\n",
              "    .colab-df-container {\n",
              "      display:flex;\n",
              "      flex-wrap:wrap;\n",
              "      gap: 12px;\n",
              "    }\n",
              "\n",
              "    .colab-df-convert {\n",
              "      background-color: #E8F0FE;\n",
              "      border: none;\n",
              "      border-radius: 50%;\n",
              "      cursor: pointer;\n",
              "      display: none;\n",
              "      fill: #1967D2;\n",
              "      height: 32px;\n",
              "      padding: 0 0 0 0;\n",
              "      width: 32px;\n",
              "    }\n",
              "\n",
              "    .colab-df-convert:hover {\n",
              "      background-color: #E2EBFA;\n",
              "      box-shadow: 0px 1px 2px rgba(60, 64, 67, 0.3), 0px 1px 3px 1px rgba(60, 64, 67, 0.15);\n",
              "      fill: #174EA6;\n",
              "    }\n",
              "\n",
              "    [theme=dark] .colab-df-convert {\n",
              "      background-color: #3B4455;\n",
              "      fill: #D2E3FC;\n",
              "    }\n",
              "\n",
              "    [theme=dark] .colab-df-convert:hover {\n",
              "      background-color: #434B5C;\n",
              "      box-shadow: 0px 1px 3px 1px rgba(0, 0, 0, 0.15);\n",
              "      filter: drop-shadow(0px 1px 2px rgba(0, 0, 0, 0.3));\n",
              "      fill: #FFFFFF;\n",
              "    }\n",
              "  </style>\n",
              "\n",
              "      <script>\n",
              "        const buttonEl =\n",
              "          document.querySelector('#df-c3d068ee-e5ca-44a3-859e-312a5655ad71 button.colab-df-convert');\n",
              "        buttonEl.style.display =\n",
              "          google.colab.kernel.accessAllowed ? 'block' : 'none';\n",
              "\n",
              "        async function convertToInteractive(key) {\n",
              "          const element = document.querySelector('#df-c3d068ee-e5ca-44a3-859e-312a5655ad71');\n",
              "          const dataTable =\n",
              "            await google.colab.kernel.invokeFunction('convertToInteractive',\n",
              "                                                     [key], {});\n",
              "          if (!dataTable) return;\n",
              "\n",
              "          const docLinkHtml = 'Like what you see? Visit the ' +\n",
              "            '<a target=\"_blank\" href=https://colab.research.google.com/notebooks/data_table.ipynb>data table notebook</a>'\n",
              "            + ' to learn more about interactive tables.';\n",
              "          element.innerHTML = '';\n",
              "          dataTable['output_type'] = 'display_data';\n",
              "          await google.colab.output.renderOutput(dataTable, element);\n",
              "          const docLink = document.createElement('div');\n",
              "          docLink.innerHTML = docLinkHtml;\n",
              "          element.appendChild(docLink);\n",
              "        }\n",
              "      </script>\n",
              "    </div>\n",
              "  </div>\n",
              "  "
            ]
          },
          "metadata": {},
          "execution_count": 47
        }
      ]
    },
    {
      "cell_type": "code",
      "source": [
        "#Pearson Correlation Coefficient (for identifying the most influencing material parameters). \n",
        "\n",
        "f, ax = plt.subplots(figsize=(65, 65), facecolor = 'white')\n",
        "figure = f.get_figure()\n",
        "\n",
        "#plotting correlation heatmap\n",
        "import seaborn as sb\n",
        "import matplotlib.pyplot as mp\n",
        "\n",
        "\n",
        "sns.heatmap(dataset.astype(float).corr(), ax=ax, linewidth = 0.25, vmax = 1, square=True, cmap=\"coolwarm_r\", linecolor = 'k', \n",
        "            cbar_kws={\"shrink\": 0.80}, annot=True, fmt='.2g', annot_kws={\"size\":38, \"fontweight\": \"bold\"})\n",
        "ax.set_xticklabels([1,2,3,4,5,6,7,8,9,10,11,12,13,14],size = 38)\n",
        "ax.set_yticklabels([1,2,3,4,5,6,7,8,9,10,11,12,13,14],size = 38)  \n",
        "sns.set(font_scale = 10.0)\n",
        "# displaying heatmap\n",
        "mp.show()"
      ],
      "metadata": {
        "id": "hI3Uh7xLDJaC"
      },
      "execution_count": null,
      "outputs": []
    },
    {
      "cell_type": "code",
      "source": [
        "dataset.to_csv('Response.csv')"
      ],
      "metadata": {
        "id": "mrt0319yujCd"
      },
      "execution_count": null,
      "outputs": []
    },
    {
      "cell_type": "code",
      "source": [
        "\n",
        "from sklearn import linear_model\n",
        "from sklearn.preprocessing import StandardScaler\n",
        "from sklearn.utils import shuffle\n",
        "from sklearn.model_selection import train_test_split\n",
        "\n",
        "\n",
        "X = dataset[['Formula', 'n value', 'Space Group', 'Layer Shift Factor (t1)', 'Layer Shift Factor (t2)', 'Bandgap', 'Cation Name', 'Anion Name', 'Anion Size (ionic radius-pm)', 'Bias', 'Light Intensity (w/cm2)', 'Light Intensity (nM)']]\n",
        "y = dataset[['Responsvity R (A W-1)']]\n",
        "\n",
        "from sklearn.utils import shuffle\n",
        "X,y = shuffle(X,y, random_state=5)\n"
      ],
      "metadata": {
        "id": "C9rgjq7QYG3e"
      },
      "execution_count": null,
      "outputs": []
    },
    {
      "cell_type": "code",
      "source": [
        "from sklearn.preprocessing import MinMaxScaler\n",
        "scalerx = MinMaxScaler(feature_range = (0,1))\n",
        "scalery = MinMaxScaler(feature_range = (0,1))\n",
        "# training the scalar with range of data\n",
        "scalerx.fit(X)\n",
        "scalery.fit(y)"
      ],
      "metadata": {
        "colab": {
          "base_uri": "https://localhost:8080/"
        },
        "id": "sETHuZiYvtrQ",
        "outputId": "37da9612-9ee8-426a-98f0-ca6ce17a74d4"
      },
      "execution_count": null,
      "outputs": [
        {
          "output_type": "execute_result",
          "data": {
            "text/plain": [
              "MinMaxScaler()"
            ]
          },
          "metadata": {},
          "execution_count": 50
        }
      ]
    },
    {
      "cell_type": "code",
      "source": [
        "# Applying transformation\n",
        "scaler_X = scalerx.transform(X)\n",
        "scaler_y = scalery.transform(y)"
      ],
      "metadata": {
        "id": "qS-nXFbPvvXe"
      },
      "execution_count": null,
      "outputs": []
    },
    {
      "cell_type": "code",
      "source": [
        "# Train/test split\n",
        "X_train, X_test, y_train, y_test = train_test_split(scaler_X, scaler_y, test_size=0.2, random_state=8)"
      ],
      "metadata": {
        "id": "8GUvX4QxwID5"
      },
      "execution_count": null,
      "outputs": []
    },
    {
      "cell_type": "code",
      "source": [
        "#dataset.dropna(axis = 0, inplace = True)\n",
        "#dataset"
      ],
      "metadata": {
        "id": "woUJC8tk80oo"
      },
      "execution_count": null,
      "outputs": []
    },
    {
      "cell_type": "code",
      "source": [
        "from xgboost import XGBRegressor\n",
        "RegModel=XGBRegressor(\n",
        "                      max_depth=500, \n",
        "                      learning_rate=0.2, \n",
        "                      n_estimators=50, \n",
        "                      booster='dart', \n",
        "                      seed = 1, \n",
        "                      )"
      ],
      "metadata": {
        "id": "ByAHQspQTxef"
      },
      "execution_count": null,
      "outputs": []
    },
    {
      "cell_type": "code",
      "source": [
        "RegModel.fit(scaler_X, scaler_y)  "
      ],
      "metadata": {
        "colab": {
          "base_uri": "https://localhost:8080/"
        },
        "id": "9olvNYs9XPgC",
        "outputId": "c40abc5d-5a6d-49ff-a1f7-602f5c4aae63"
      },
      "execution_count": null,
      "outputs": [
        {
          "output_type": "stream",
          "name": "stdout",
          "text": [
            "[08:39:45] WARNING: /workspace/src/objective/regression_obj.cu:152: reg:linear is now deprecated in favor of reg:squarederror.\n"
          ]
        },
        {
          "output_type": "execute_result",
          "data": {
            "text/plain": [
              "XGBRegressor(booster='dart', learning_rate=0.2, max_depth=500, n_estimators=50,\n",
              "             seed=1)"
            ]
          },
          "metadata": {},
          "execution_count": 55
        }
      ]
    },
    {
      "cell_type": "code",
      "source": [
        "y_xgb = RegModel.predict(X_test)"
      ],
      "metadata": {
        "id": "DPxCuQgszKfz"
      },
      "execution_count": null,
      "outputs": []
    },
    {
      "cell_type": "code",
      "source": [
        "from sklearn.metrics import r2_score,mean_absolute_error,mean_squared_error, mean_absolute_percentage_error\n",
        "r2_score(y_test, y_xgb)"
      ],
      "metadata": {
        "colab": {
          "base_uri": "https://localhost:8080/"
        },
        "id": "eEvWejTWzT4b",
        "outputId": "32939e27-9880-4254-fec1-d1bab2bee486"
      },
      "execution_count": null,
      "outputs": [
        {
          "output_type": "execute_result",
          "data": {
            "text/plain": [
              "0.9998932573491004"
            ]
          },
          "metadata": {},
          "execution_count": 57
        }
      ]
    },
    {
      "cell_type": "code",
      "source": [
        "mean_absolute_error(y_test, y_xgb)"
      ],
      "metadata": {
        "colab": {
          "base_uri": "https://localhost:8080/"
        },
        "id": "0gqDLkcrFbXL",
        "outputId": "6ee5ac2a-248a-4219-db5d-b07db11f9fa6"
      },
      "execution_count": null,
      "outputs": [
        {
          "output_type": "execute_result",
          "data": {
            "text/plain": [
              "0.0003145789657830706"
            ]
          },
          "metadata": {},
          "execution_count": 58
        }
      ]
    },
    {
      "cell_type": "code",
      "source": [
        "mean_squared_error(y_test, y_xgb)"
      ],
      "metadata": {
        "colab": {
          "base_uri": "https://localhost:8080/"
        },
        "id": "qHEUDFv5GqHJ",
        "outputId": "0ef89c2f-c11b-4dba-8f7f-4bd62a2d5c40"
      },
      "execution_count": null,
      "outputs": [
        {
          "output_type": "execute_result",
          "data": {
            "text/plain": [
              "3.1109675816690193e-07"
            ]
          },
          "metadata": {},
          "execution_count": 59
        }
      ]
    },
    {
      "cell_type": "code",
      "source": [
        "y_test"
      ],
      "metadata": {
        "id": "L_nTtlVaFDZg",
        "colab": {
          "base_uri": "https://localhost:8080/"
        },
        "outputId": "07f14583-8b7e-4f93-c2ed-06b9d7a2f9a9"
      },
      "execution_count": null,
      "outputs": [
        {
          "output_type": "execute_result",
          "data": {
            "text/plain": [
              "array([[2.16216216e-06],\n",
              "       [1.62162162e-06],\n",
              "       [5.40540541e-08],\n",
              "       [2.70270270e-05],\n",
              "       [9.45945946e-05],\n",
              "       [1.35135135e-06],\n",
              "       [4.05405405e-04],\n",
              "       [2.02702703e-01],\n",
              "       [2.52837838e-04],\n",
              "       [2.43243243e-04],\n",
              "       [5.13513514e-08],\n",
              "       [3.24324324e-05],\n",
              "       [2.22972973e-04]])"
            ]
          },
          "metadata": {},
          "execution_count": 60
        }
      ]
    },
    {
      "cell_type": "code",
      "source": [
        "y_xgb = RegModel.predict(X_train)\n",
        "r2_score(y_train, y_xgb)"
      ],
      "metadata": {
        "id": "lr-V73fBXah6",
        "colab": {
          "base_uri": "https://localhost:8080/"
        },
        "outputId": "372d6798-97c3-45d5-b377-15a065f1183a"
      },
      "execution_count": null,
      "outputs": [
        {
          "output_type": "execute_result",
          "data": {
            "text/plain": [
              "0.9999739066618671"
            ]
          },
          "metadata": {},
          "execution_count": 64
        }
      ]
    },
    {
      "cell_type": "code",
      "source": [
        "mean_absolute_error(y_train, y_xgb)"
      ],
      "metadata": {
        "colab": {
          "base_uri": "https://localhost:8080/"
        },
        "id": "hQr0xALJ_8JG",
        "outputId": "a34a9ada-f132-44bf-b818-17a0bd4ae9c0"
      },
      "execution_count": null,
      "outputs": [
        {
          "output_type": "execute_result",
          "data": {
            "text/plain": [
              "0.0004896263272167905"
            ]
          },
          "metadata": {},
          "execution_count": 65
        }
      ]
    },
    {
      "cell_type": "code",
      "source": [
        "mean_squared_error(y_train, y_xgb)"
      ],
      "metadata": {
        "colab": {
          "base_uri": "https://localhost:8080/"
        },
        "id": "O5akLFv9ADOm",
        "outputId": "a8672385-faf9-4158-9f2b-b9afe454e5e8"
      },
      "execution_count": null,
      "outputs": [
        {
          "output_type": "execute_result",
          "data": {
            "text/plain": [
              "5.226712591687615e-07"
            ]
          },
          "metadata": {},
          "execution_count": 66
        }
      ]
    },
    {
      "cell_type": "code",
      "source": [
        "test_df = pd.read_csv(\"/content/Test_X.csv\")\n",
        "test_df"
      ],
      "metadata": {
        "id": "WDTNA7PVg64E",
        "colab": {
          "base_uri": "https://localhost:8080/",
          "height": 485
        },
        "outputId": "3766cf56-1f8e-4823-8545-daf0634fa821"
      },
      "execution_count": null,
      "outputs": [
        {
          "output_type": "execute_result",
          "data": {
            "text/plain": [
              "    Formula  n value  Space Group  Layer Shift Factor (t1)  \\\n",
              "0      11.0      1.0          7.0                     0.49   \n",
              "1      15.0      2.0          3.0                     0.50   \n",
              "2      17.0      4.0          3.0                     0.50   \n",
              "3      18.0      1.0          7.0                     0.49   \n",
              "4      19.0      2.0          2.0                     0.00   \n",
              "..      ...      ...          ...                      ...   \n",
              "59      NaN      NaN          NaN                      NaN   \n",
              "60      NaN      NaN          NaN                      NaN   \n",
              "61      NaN      NaN          NaN                      NaN   \n",
              "62      NaN      NaN          NaN                      NaN   \n",
              "63      NaN      NaN          NaN                      NaN   \n",
              "\n",
              "    Layer Shift Factor (t2)  Bandgap  Cation Name  Anion Name  \\\n",
              "0                       0.5     2.30          1.0         1.0   \n",
              "1                       0.5     1.96          1.0         1.0   \n",
              "2                       0.5     1.85          1.0         1.0   \n",
              "3                       0.5     2.82          1.0         0.0   \n",
              "4                       0.0     2.54          1.0         0.0   \n",
              "..                      ...      ...          ...         ...   \n",
              "59                      NaN      NaN          NaN         NaN   \n",
              "60                      NaN      NaN          NaN         NaN   \n",
              "61                      NaN      NaN          NaN         NaN   \n",
              "62                      NaN      NaN          NaN         NaN   \n",
              "63                      NaN      NaN          NaN         NaN   \n",
              "\n",
              "    Anion Size (ionic radius-pm)  Bias  Light Intensity (w/cm2)  \\\n",
              "0                          206.0   3.0                    0.049   \n",
              "1                          206.0   1.0                    0.049   \n",
              "2                          206.0   2.0                    0.049   \n",
              "3                          196.0   3.0                    0.049   \n",
              "4                          196.0   5.0                    0.049   \n",
              "..                           ...   ...                      ...   \n",
              "59                           NaN   NaN                      NaN   \n",
              "60                           NaN   NaN                      NaN   \n",
              "61                           NaN   NaN                      NaN   \n",
              "62                           NaN   NaN                      NaN   \n",
              "63                           NaN   NaN                      NaN   \n",
              "\n",
              "    Light Intensity (nM)  \n",
              "0                    0.0  \n",
              "1                    0.0  \n",
              "2                    0.0  \n",
              "3                    0.0  \n",
              "4                    0.0  \n",
              "..                   ...  \n",
              "59                   NaN  \n",
              "60                   NaN  \n",
              "61                   NaN  \n",
              "62                   NaN  \n",
              "63                   NaN  \n",
              "\n",
              "[64 rows x 12 columns]"
            ],
            "text/html": [
              "\n",
              "  <div id=\"df-8faf3db8-a7f1-4bcc-b1a0-e399fb269866\">\n",
              "    <div class=\"colab-df-container\">\n",
              "      <div>\n",
              "<style scoped>\n",
              "    .dataframe tbody tr th:only-of-type {\n",
              "        vertical-align: middle;\n",
              "    }\n",
              "\n",
              "    .dataframe tbody tr th {\n",
              "        vertical-align: top;\n",
              "    }\n",
              "\n",
              "    .dataframe thead th {\n",
              "        text-align: right;\n",
              "    }\n",
              "</style>\n",
              "<table border=\"1\" class=\"dataframe\">\n",
              "  <thead>\n",
              "    <tr style=\"text-align: right;\">\n",
              "      <th></th>\n",
              "      <th>Formula</th>\n",
              "      <th>n value</th>\n",
              "      <th>Space Group</th>\n",
              "      <th>Layer Shift Factor (t1)</th>\n",
              "      <th>Layer Shift Factor (t2)</th>\n",
              "      <th>Bandgap</th>\n",
              "      <th>Cation Name</th>\n",
              "      <th>Anion Name</th>\n",
              "      <th>Anion Size (ionic radius-pm)</th>\n",
              "      <th>Bias</th>\n",
              "      <th>Light Intensity (w/cm2)</th>\n",
              "      <th>Light Intensity (nM)</th>\n",
              "    </tr>\n",
              "  </thead>\n",
              "  <tbody>\n",
              "    <tr>\n",
              "      <th>0</th>\n",
              "      <td>11.0</td>\n",
              "      <td>1.0</td>\n",
              "      <td>7.0</td>\n",
              "      <td>0.49</td>\n",
              "      <td>0.5</td>\n",
              "      <td>2.30</td>\n",
              "      <td>1.0</td>\n",
              "      <td>1.0</td>\n",
              "      <td>206.0</td>\n",
              "      <td>3.0</td>\n",
              "      <td>0.049</td>\n",
              "      <td>0.0</td>\n",
              "    </tr>\n",
              "    <tr>\n",
              "      <th>1</th>\n",
              "      <td>15.0</td>\n",
              "      <td>2.0</td>\n",
              "      <td>3.0</td>\n",
              "      <td>0.50</td>\n",
              "      <td>0.5</td>\n",
              "      <td>1.96</td>\n",
              "      <td>1.0</td>\n",
              "      <td>1.0</td>\n",
              "      <td>206.0</td>\n",
              "      <td>1.0</td>\n",
              "      <td>0.049</td>\n",
              "      <td>0.0</td>\n",
              "    </tr>\n",
              "    <tr>\n",
              "      <th>2</th>\n",
              "      <td>17.0</td>\n",
              "      <td>4.0</td>\n",
              "      <td>3.0</td>\n",
              "      <td>0.50</td>\n",
              "      <td>0.5</td>\n",
              "      <td>1.85</td>\n",
              "      <td>1.0</td>\n",
              "      <td>1.0</td>\n",
              "      <td>206.0</td>\n",
              "      <td>2.0</td>\n",
              "      <td>0.049</td>\n",
              "      <td>0.0</td>\n",
              "    </tr>\n",
              "    <tr>\n",
              "      <th>3</th>\n",
              "      <td>18.0</td>\n",
              "      <td>1.0</td>\n",
              "      <td>7.0</td>\n",
              "      <td>0.49</td>\n",
              "      <td>0.5</td>\n",
              "      <td>2.82</td>\n",
              "      <td>1.0</td>\n",
              "      <td>0.0</td>\n",
              "      <td>196.0</td>\n",
              "      <td>3.0</td>\n",
              "      <td>0.049</td>\n",
              "      <td>0.0</td>\n",
              "    </tr>\n",
              "    <tr>\n",
              "      <th>4</th>\n",
              "      <td>19.0</td>\n",
              "      <td>2.0</td>\n",
              "      <td>2.0</td>\n",
              "      <td>0.00</td>\n",
              "      <td>0.0</td>\n",
              "      <td>2.54</td>\n",
              "      <td>1.0</td>\n",
              "      <td>0.0</td>\n",
              "      <td>196.0</td>\n",
              "      <td>5.0</td>\n",
              "      <td>0.049</td>\n",
              "      <td>0.0</td>\n",
              "    </tr>\n",
              "    <tr>\n",
              "      <th>...</th>\n",
              "      <td>...</td>\n",
              "      <td>...</td>\n",
              "      <td>...</td>\n",
              "      <td>...</td>\n",
              "      <td>...</td>\n",
              "      <td>...</td>\n",
              "      <td>...</td>\n",
              "      <td>...</td>\n",
              "      <td>...</td>\n",
              "      <td>...</td>\n",
              "      <td>...</td>\n",
              "      <td>...</td>\n",
              "    </tr>\n",
              "    <tr>\n",
              "      <th>59</th>\n",
              "      <td>NaN</td>\n",
              "      <td>NaN</td>\n",
              "      <td>NaN</td>\n",
              "      <td>NaN</td>\n",
              "      <td>NaN</td>\n",
              "      <td>NaN</td>\n",
              "      <td>NaN</td>\n",
              "      <td>NaN</td>\n",
              "      <td>NaN</td>\n",
              "      <td>NaN</td>\n",
              "      <td>NaN</td>\n",
              "      <td>NaN</td>\n",
              "    </tr>\n",
              "    <tr>\n",
              "      <th>60</th>\n",
              "      <td>NaN</td>\n",
              "      <td>NaN</td>\n",
              "      <td>NaN</td>\n",
              "      <td>NaN</td>\n",
              "      <td>NaN</td>\n",
              "      <td>NaN</td>\n",
              "      <td>NaN</td>\n",
              "      <td>NaN</td>\n",
              "      <td>NaN</td>\n",
              "      <td>NaN</td>\n",
              "      <td>NaN</td>\n",
              "      <td>NaN</td>\n",
              "    </tr>\n",
              "    <tr>\n",
              "      <th>61</th>\n",
              "      <td>NaN</td>\n",
              "      <td>NaN</td>\n",
              "      <td>NaN</td>\n",
              "      <td>NaN</td>\n",
              "      <td>NaN</td>\n",
              "      <td>NaN</td>\n",
              "      <td>NaN</td>\n",
              "      <td>NaN</td>\n",
              "      <td>NaN</td>\n",
              "      <td>NaN</td>\n",
              "      <td>NaN</td>\n",
              "      <td>NaN</td>\n",
              "    </tr>\n",
              "    <tr>\n",
              "      <th>62</th>\n",
              "      <td>NaN</td>\n",
              "      <td>NaN</td>\n",
              "      <td>NaN</td>\n",
              "      <td>NaN</td>\n",
              "      <td>NaN</td>\n",
              "      <td>NaN</td>\n",
              "      <td>NaN</td>\n",
              "      <td>NaN</td>\n",
              "      <td>NaN</td>\n",
              "      <td>NaN</td>\n",
              "      <td>NaN</td>\n",
              "      <td>NaN</td>\n",
              "    </tr>\n",
              "    <tr>\n",
              "      <th>63</th>\n",
              "      <td>NaN</td>\n",
              "      <td>NaN</td>\n",
              "      <td>NaN</td>\n",
              "      <td>NaN</td>\n",
              "      <td>NaN</td>\n",
              "      <td>NaN</td>\n",
              "      <td>NaN</td>\n",
              "      <td>NaN</td>\n",
              "      <td>NaN</td>\n",
              "      <td>NaN</td>\n",
              "      <td>NaN</td>\n",
              "      <td>NaN</td>\n",
              "    </tr>\n",
              "  </tbody>\n",
              "</table>\n",
              "<p>64 rows × 12 columns</p>\n",
              "</div>\n",
              "      <button class=\"colab-df-convert\" onclick=\"convertToInteractive('df-8faf3db8-a7f1-4bcc-b1a0-e399fb269866')\"\n",
              "              title=\"Convert this dataframe to an interactive table.\"\n",
              "              style=\"display:none;\">\n",
              "        \n",
              "  <svg xmlns=\"http://www.w3.org/2000/svg\" height=\"24px\"viewBox=\"0 0 24 24\"\n",
              "       width=\"24px\">\n",
              "    <path d=\"M0 0h24v24H0V0z\" fill=\"none\"/>\n",
              "    <path d=\"M18.56 5.44l.94 2.06.94-2.06 2.06-.94-2.06-.94-.94-2.06-.94 2.06-2.06.94zm-11 1L8.5 8.5l.94-2.06 2.06-.94-2.06-.94L8.5 2.5l-.94 2.06-2.06.94zm10 10l.94 2.06.94-2.06 2.06-.94-2.06-.94-.94-2.06-.94 2.06-2.06.94z\"/><path d=\"M17.41 7.96l-1.37-1.37c-.4-.4-.92-.59-1.43-.59-.52 0-1.04.2-1.43.59L10.3 9.45l-7.72 7.72c-.78.78-.78 2.05 0 2.83L4 21.41c.39.39.9.59 1.41.59.51 0 1.02-.2 1.41-.59l7.78-7.78 2.81-2.81c.8-.78.8-2.07 0-2.86zM5.41 20L4 18.59l7.72-7.72 1.47 1.35L5.41 20z\"/>\n",
              "  </svg>\n",
              "      </button>\n",
              "      \n",
              "  <style>\n",
              "    .colab-df-container {\n",
              "      display:flex;\n",
              "      flex-wrap:wrap;\n",
              "      gap: 12px;\n",
              "    }\n",
              "\n",
              "    .colab-df-convert {\n",
              "      background-color: #E8F0FE;\n",
              "      border: none;\n",
              "      border-radius: 50%;\n",
              "      cursor: pointer;\n",
              "      display: none;\n",
              "      fill: #1967D2;\n",
              "      height: 32px;\n",
              "      padding: 0 0 0 0;\n",
              "      width: 32px;\n",
              "    }\n",
              "\n",
              "    .colab-df-convert:hover {\n",
              "      background-color: #E2EBFA;\n",
              "      box-shadow: 0px 1px 2px rgba(60, 64, 67, 0.3), 0px 1px 3px 1px rgba(60, 64, 67, 0.15);\n",
              "      fill: #174EA6;\n",
              "    }\n",
              "\n",
              "    [theme=dark] .colab-df-convert {\n",
              "      background-color: #3B4455;\n",
              "      fill: #D2E3FC;\n",
              "    }\n",
              "\n",
              "    [theme=dark] .colab-df-convert:hover {\n",
              "      background-color: #434B5C;\n",
              "      box-shadow: 0px 1px 3px 1px rgba(0, 0, 0, 0.15);\n",
              "      filter: drop-shadow(0px 1px 2px rgba(0, 0, 0, 0.3));\n",
              "      fill: #FFFFFF;\n",
              "    }\n",
              "  </style>\n",
              "\n",
              "      <script>\n",
              "        const buttonEl =\n",
              "          document.querySelector('#df-8faf3db8-a7f1-4bcc-b1a0-e399fb269866 button.colab-df-convert');\n",
              "        buttonEl.style.display =\n",
              "          google.colab.kernel.accessAllowed ? 'block' : 'none';\n",
              "\n",
              "        async function convertToInteractive(key) {\n",
              "          const element = document.querySelector('#df-8faf3db8-a7f1-4bcc-b1a0-e399fb269866');\n",
              "          const dataTable =\n",
              "            await google.colab.kernel.invokeFunction('convertToInteractive',\n",
              "                                                     [key], {});\n",
              "          if (!dataTable) return;\n",
              "\n",
              "          const docLinkHtml = 'Like what you see? Visit the ' +\n",
              "            '<a target=\"_blank\" href=https://colab.research.google.com/notebooks/data_table.ipynb>data table notebook</a>'\n",
              "            + ' to learn more about interactive tables.';\n",
              "          element.innerHTML = '';\n",
              "          dataTable['output_type'] = 'display_data';\n",
              "          await google.colab.output.renderOutput(dataTable, element);\n",
              "          const docLink = document.createElement('div');\n",
              "          docLink.innerHTML = docLinkHtml;\n",
              "          element.appendChild(docLink);\n",
              "        }\n",
              "      </script>\n",
              "    </div>\n",
              "  </div>\n",
              "  "
            ]
          },
          "metadata": {},
          "execution_count": 70
        }
      ]
    },
    {
      "cell_type": "code",
      "source": [
        "test_df.dropna(axis = 0, inplace = True)\n",
        "test_df"
      ],
      "metadata": {
        "id": "NPe_pYaSI1Jr",
        "colab": {
          "base_uri": "https://localhost:8080/",
          "height": 268
        },
        "outputId": "41502bdb-a87c-43bc-9baa-233f637125ff"
      },
      "execution_count": null,
      "outputs": [
        {
          "output_type": "execute_result",
          "data": {
            "text/plain": [
              "   Formula  n value  Space Group  Layer Shift Factor (t1)  \\\n",
              "0     11.0      1.0          7.0                     0.49   \n",
              "1     15.0      2.0          3.0                     0.50   \n",
              "2     17.0      4.0          3.0                     0.50   \n",
              "3     18.0      1.0          7.0                     0.49   \n",
              "4     19.0      2.0          2.0                     0.00   \n",
              "\n",
              "   Layer Shift Factor (t2)  Bandgap  Cation Name  Anion Name  \\\n",
              "0                      0.5     2.30          1.0         1.0   \n",
              "1                      0.5     1.96          1.0         1.0   \n",
              "2                      0.5     1.85          1.0         1.0   \n",
              "3                      0.5     2.82          1.0         0.0   \n",
              "4                      0.0     2.54          1.0         0.0   \n",
              "\n",
              "   Anion Size (ionic radius-pm)  Bias  Light Intensity (w/cm2)  \\\n",
              "0                         206.0   3.0                    0.049   \n",
              "1                         206.0   1.0                    0.049   \n",
              "2                         206.0   2.0                    0.049   \n",
              "3                         196.0   3.0                    0.049   \n",
              "4                         196.0   5.0                    0.049   \n",
              "\n",
              "   Light Intensity (nM)  \n",
              "0                   0.0  \n",
              "1                   0.0  \n",
              "2                   0.0  \n",
              "3                   0.0  \n",
              "4                   0.0  "
            ],
            "text/html": [
              "\n",
              "  <div id=\"df-c6987e89-4a5d-44a5-9f0f-0dc4ab3aecbe\">\n",
              "    <div class=\"colab-df-container\">\n",
              "      <div>\n",
              "<style scoped>\n",
              "    .dataframe tbody tr th:only-of-type {\n",
              "        vertical-align: middle;\n",
              "    }\n",
              "\n",
              "    .dataframe tbody tr th {\n",
              "        vertical-align: top;\n",
              "    }\n",
              "\n",
              "    .dataframe thead th {\n",
              "        text-align: right;\n",
              "    }\n",
              "</style>\n",
              "<table border=\"1\" class=\"dataframe\">\n",
              "  <thead>\n",
              "    <tr style=\"text-align: right;\">\n",
              "      <th></th>\n",
              "      <th>Formula</th>\n",
              "      <th>n value</th>\n",
              "      <th>Space Group</th>\n",
              "      <th>Layer Shift Factor (t1)</th>\n",
              "      <th>Layer Shift Factor (t2)</th>\n",
              "      <th>Bandgap</th>\n",
              "      <th>Cation Name</th>\n",
              "      <th>Anion Name</th>\n",
              "      <th>Anion Size (ionic radius-pm)</th>\n",
              "      <th>Bias</th>\n",
              "      <th>Light Intensity (w/cm2)</th>\n",
              "      <th>Light Intensity (nM)</th>\n",
              "    </tr>\n",
              "  </thead>\n",
              "  <tbody>\n",
              "    <tr>\n",
              "      <th>0</th>\n",
              "      <td>11.0</td>\n",
              "      <td>1.0</td>\n",
              "      <td>7.0</td>\n",
              "      <td>0.49</td>\n",
              "      <td>0.5</td>\n",
              "      <td>2.30</td>\n",
              "      <td>1.0</td>\n",
              "      <td>1.0</td>\n",
              "      <td>206.0</td>\n",
              "      <td>3.0</td>\n",
              "      <td>0.049</td>\n",
              "      <td>0.0</td>\n",
              "    </tr>\n",
              "    <tr>\n",
              "      <th>1</th>\n",
              "      <td>15.0</td>\n",
              "      <td>2.0</td>\n",
              "      <td>3.0</td>\n",
              "      <td>0.50</td>\n",
              "      <td>0.5</td>\n",
              "      <td>1.96</td>\n",
              "      <td>1.0</td>\n",
              "      <td>1.0</td>\n",
              "      <td>206.0</td>\n",
              "      <td>1.0</td>\n",
              "      <td>0.049</td>\n",
              "      <td>0.0</td>\n",
              "    </tr>\n",
              "    <tr>\n",
              "      <th>2</th>\n",
              "      <td>17.0</td>\n",
              "      <td>4.0</td>\n",
              "      <td>3.0</td>\n",
              "      <td>0.50</td>\n",
              "      <td>0.5</td>\n",
              "      <td>1.85</td>\n",
              "      <td>1.0</td>\n",
              "      <td>1.0</td>\n",
              "      <td>206.0</td>\n",
              "      <td>2.0</td>\n",
              "      <td>0.049</td>\n",
              "      <td>0.0</td>\n",
              "    </tr>\n",
              "    <tr>\n",
              "      <th>3</th>\n",
              "      <td>18.0</td>\n",
              "      <td>1.0</td>\n",
              "      <td>7.0</td>\n",
              "      <td>0.49</td>\n",
              "      <td>0.5</td>\n",
              "      <td>2.82</td>\n",
              "      <td>1.0</td>\n",
              "      <td>0.0</td>\n",
              "      <td>196.0</td>\n",
              "      <td>3.0</td>\n",
              "      <td>0.049</td>\n",
              "      <td>0.0</td>\n",
              "    </tr>\n",
              "    <tr>\n",
              "      <th>4</th>\n",
              "      <td>19.0</td>\n",
              "      <td>2.0</td>\n",
              "      <td>2.0</td>\n",
              "      <td>0.00</td>\n",
              "      <td>0.0</td>\n",
              "      <td>2.54</td>\n",
              "      <td>1.0</td>\n",
              "      <td>0.0</td>\n",
              "      <td>196.0</td>\n",
              "      <td>5.0</td>\n",
              "      <td>0.049</td>\n",
              "      <td>0.0</td>\n",
              "    </tr>\n",
              "  </tbody>\n",
              "</table>\n",
              "</div>\n",
              "      <button class=\"colab-df-convert\" onclick=\"convertToInteractive('df-c6987e89-4a5d-44a5-9f0f-0dc4ab3aecbe')\"\n",
              "              title=\"Convert this dataframe to an interactive table.\"\n",
              "              style=\"display:none;\">\n",
              "        \n",
              "  <svg xmlns=\"http://www.w3.org/2000/svg\" height=\"24px\"viewBox=\"0 0 24 24\"\n",
              "       width=\"24px\">\n",
              "    <path d=\"M0 0h24v24H0V0z\" fill=\"none\"/>\n",
              "    <path d=\"M18.56 5.44l.94 2.06.94-2.06 2.06-.94-2.06-.94-.94-2.06-.94 2.06-2.06.94zm-11 1L8.5 8.5l.94-2.06 2.06-.94-2.06-.94L8.5 2.5l-.94 2.06-2.06.94zm10 10l.94 2.06.94-2.06 2.06-.94-2.06-.94-.94-2.06-.94 2.06-2.06.94z\"/><path d=\"M17.41 7.96l-1.37-1.37c-.4-.4-.92-.59-1.43-.59-.52 0-1.04.2-1.43.59L10.3 9.45l-7.72 7.72c-.78.78-.78 2.05 0 2.83L4 21.41c.39.39.9.59 1.41.59.51 0 1.02-.2 1.41-.59l7.78-7.78 2.81-2.81c.8-.78.8-2.07 0-2.86zM5.41 20L4 18.59l7.72-7.72 1.47 1.35L5.41 20z\"/>\n",
              "  </svg>\n",
              "      </button>\n",
              "      \n",
              "  <style>\n",
              "    .colab-df-container {\n",
              "      display:flex;\n",
              "      flex-wrap:wrap;\n",
              "      gap: 12px;\n",
              "    }\n",
              "\n",
              "    .colab-df-convert {\n",
              "      background-color: #E8F0FE;\n",
              "      border: none;\n",
              "      border-radius: 50%;\n",
              "      cursor: pointer;\n",
              "      display: none;\n",
              "      fill: #1967D2;\n",
              "      height: 32px;\n",
              "      padding: 0 0 0 0;\n",
              "      width: 32px;\n",
              "    }\n",
              "\n",
              "    .colab-df-convert:hover {\n",
              "      background-color: #E2EBFA;\n",
              "      box-shadow: 0px 1px 2px rgba(60, 64, 67, 0.3), 0px 1px 3px 1px rgba(60, 64, 67, 0.15);\n",
              "      fill: #174EA6;\n",
              "    }\n",
              "\n",
              "    [theme=dark] .colab-df-convert {\n",
              "      background-color: #3B4455;\n",
              "      fill: #D2E3FC;\n",
              "    }\n",
              "\n",
              "    [theme=dark] .colab-df-convert:hover {\n",
              "      background-color: #434B5C;\n",
              "      box-shadow: 0px 1px 3px 1px rgba(0, 0, 0, 0.15);\n",
              "      filter: drop-shadow(0px 1px 2px rgba(0, 0, 0, 0.3));\n",
              "      fill: #FFFFFF;\n",
              "    }\n",
              "  </style>\n",
              "\n",
              "      <script>\n",
              "        const buttonEl =\n",
              "          document.querySelector('#df-c6987e89-4a5d-44a5-9f0f-0dc4ab3aecbe button.colab-df-convert');\n",
              "        buttonEl.style.display =\n",
              "          google.colab.kernel.accessAllowed ? 'block' : 'none';\n",
              "\n",
              "        async function convertToInteractive(key) {\n",
              "          const element = document.querySelector('#df-c6987e89-4a5d-44a5-9f0f-0dc4ab3aecbe');\n",
              "          const dataTable =\n",
              "            await google.colab.kernel.invokeFunction('convertToInteractive',\n",
              "                                                     [key], {});\n",
              "          if (!dataTable) return;\n",
              "\n",
              "          const docLinkHtml = 'Like what you see? Visit the ' +\n",
              "            '<a target=\"_blank\" href=https://colab.research.google.com/notebooks/data_table.ipynb>data table notebook</a>'\n",
              "            + ' to learn more about interactive tables.';\n",
              "          element.innerHTML = '';\n",
              "          dataTable['output_type'] = 'display_data';\n",
              "          await google.colab.output.renderOutput(dataTable, element);\n",
              "          const docLink = document.createElement('div');\n",
              "          docLink.innerHTML = docLinkHtml;\n",
              "          element.appendChild(docLink);\n",
              "        }\n",
              "      </script>\n",
              "    </div>\n",
              "  </div>\n",
              "  "
            ]
          },
          "metadata": {},
          "execution_count": 71
        }
      ]
    },
    {
      "cell_type": "code",
      "source": [
        "scalerx_test = MinMaxScaler(feature_range = (0,1))\n",
        "scalery_test = MinMaxScaler(feature_range= (0,1))\n",
        "#scalerx_test = MinMaxScaler()\n",
        "scalerx_test.fit(test_df)\n",
        "scaler_Xtest = scalerx_test.transform(test_df)"
      ],
      "metadata": {
        "id": "UcMTcDKZ0Y_d"
      },
      "execution_count": null,
      "outputs": []
    },
    {
      "cell_type": "code",
      "source": [
        "predictions1_df = RegModel.predict(scaler_Xtest)"
      ],
      "metadata": {
        "id": "PcwBGiwSeqLe"
      },
      "execution_count": null,
      "outputs": []
    },
    {
      "cell_type": "code",
      "source": [
        "predictions1_df"
      ],
      "metadata": {
        "id": "hXSGhP9H4D3L",
        "colab": {
          "base_uri": "https://localhost:8080/"
        },
        "outputId": "4076e6d9-b59a-4c77-d9eb-ff85bdb88445"
      },
      "execution_count": null,
      "outputs": [
        {
          "output_type": "execute_result",
          "data": {
            "text/plain": [
              "array([ 0.00053   ,  0.01775277,  0.0608125 , -0.00291574,  0.00027403],\n",
              "      dtype=float32)"
            ]
          },
          "metadata": {},
          "execution_count": 74
        }
      ]
    },
    {
      "cell_type": "code",
      "source": [
        "test_Y_df = pd.read_csv(\"/content/Test_Y.csv\")\n",
        "test_Y_df"
      ],
      "metadata": {
        "id": "8W0-bmrlhTjC",
        "colab": {
          "base_uri": "https://localhost:8080/",
          "height": 206
        },
        "outputId": "e29ccfb0-f494-4d52-e4f6-14606255b600"
      },
      "execution_count": null,
      "outputs": [
        {
          "output_type": "execute_result",
          "data": {
            "text/plain": [
              "   Responsvity R (A W-1)\n",
              "0               0.000980\n",
              "1               0.000580\n",
              "2               0.024500\n",
              "3               0.000157\n",
              "4               0.024600"
            ],
            "text/html": [
              "\n",
              "  <div id=\"df-c3ddac3f-d076-4f6c-aeea-fd815c781bbd\">\n",
              "    <div class=\"colab-df-container\">\n",
              "      <div>\n",
              "<style scoped>\n",
              "    .dataframe tbody tr th:only-of-type {\n",
              "        vertical-align: middle;\n",
              "    }\n",
              "\n",
              "    .dataframe tbody tr th {\n",
              "        vertical-align: top;\n",
              "    }\n",
              "\n",
              "    .dataframe thead th {\n",
              "        text-align: right;\n",
              "    }\n",
              "</style>\n",
              "<table border=\"1\" class=\"dataframe\">\n",
              "  <thead>\n",
              "    <tr style=\"text-align: right;\">\n",
              "      <th></th>\n",
              "      <th>Responsvity R (A W-1)</th>\n",
              "    </tr>\n",
              "  </thead>\n",
              "  <tbody>\n",
              "    <tr>\n",
              "      <th>0</th>\n",
              "      <td>0.000980</td>\n",
              "    </tr>\n",
              "    <tr>\n",
              "      <th>1</th>\n",
              "      <td>0.000580</td>\n",
              "    </tr>\n",
              "    <tr>\n",
              "      <th>2</th>\n",
              "      <td>0.024500</td>\n",
              "    </tr>\n",
              "    <tr>\n",
              "      <th>3</th>\n",
              "      <td>0.000157</td>\n",
              "    </tr>\n",
              "    <tr>\n",
              "      <th>4</th>\n",
              "      <td>0.024600</td>\n",
              "    </tr>\n",
              "  </tbody>\n",
              "</table>\n",
              "</div>\n",
              "      <button class=\"colab-df-convert\" onclick=\"convertToInteractive('df-c3ddac3f-d076-4f6c-aeea-fd815c781bbd')\"\n",
              "              title=\"Convert this dataframe to an interactive table.\"\n",
              "              style=\"display:none;\">\n",
              "        \n",
              "  <svg xmlns=\"http://www.w3.org/2000/svg\" height=\"24px\"viewBox=\"0 0 24 24\"\n",
              "       width=\"24px\">\n",
              "    <path d=\"M0 0h24v24H0V0z\" fill=\"none\"/>\n",
              "    <path d=\"M18.56 5.44l.94 2.06.94-2.06 2.06-.94-2.06-.94-.94-2.06-.94 2.06-2.06.94zm-11 1L8.5 8.5l.94-2.06 2.06-.94-2.06-.94L8.5 2.5l-.94 2.06-2.06.94zm10 10l.94 2.06.94-2.06 2.06-.94-2.06-.94-.94-2.06-.94 2.06-2.06.94z\"/><path d=\"M17.41 7.96l-1.37-1.37c-.4-.4-.92-.59-1.43-.59-.52 0-1.04.2-1.43.59L10.3 9.45l-7.72 7.72c-.78.78-.78 2.05 0 2.83L4 21.41c.39.39.9.59 1.41.59.51 0 1.02-.2 1.41-.59l7.78-7.78 2.81-2.81c.8-.78.8-2.07 0-2.86zM5.41 20L4 18.59l7.72-7.72 1.47 1.35L5.41 20z\"/>\n",
              "  </svg>\n",
              "      </button>\n",
              "      \n",
              "  <style>\n",
              "    .colab-df-container {\n",
              "      display:flex;\n",
              "      flex-wrap:wrap;\n",
              "      gap: 12px;\n",
              "    }\n",
              "\n",
              "    .colab-df-convert {\n",
              "      background-color: #E8F0FE;\n",
              "      border: none;\n",
              "      border-radius: 50%;\n",
              "      cursor: pointer;\n",
              "      display: none;\n",
              "      fill: #1967D2;\n",
              "      height: 32px;\n",
              "      padding: 0 0 0 0;\n",
              "      width: 32px;\n",
              "    }\n",
              "\n",
              "    .colab-df-convert:hover {\n",
              "      background-color: #E2EBFA;\n",
              "      box-shadow: 0px 1px 2px rgba(60, 64, 67, 0.3), 0px 1px 3px 1px rgba(60, 64, 67, 0.15);\n",
              "      fill: #174EA6;\n",
              "    }\n",
              "\n",
              "    [theme=dark] .colab-df-convert {\n",
              "      background-color: #3B4455;\n",
              "      fill: #D2E3FC;\n",
              "    }\n",
              "\n",
              "    [theme=dark] .colab-df-convert:hover {\n",
              "      background-color: #434B5C;\n",
              "      box-shadow: 0px 1px 3px 1px rgba(0, 0, 0, 0.15);\n",
              "      filter: drop-shadow(0px 1px 2px rgba(0, 0, 0, 0.3));\n",
              "      fill: #FFFFFF;\n",
              "    }\n",
              "  </style>\n",
              "\n",
              "      <script>\n",
              "        const buttonEl =\n",
              "          document.querySelector('#df-c3ddac3f-d076-4f6c-aeea-fd815c781bbd button.colab-df-convert');\n",
              "        buttonEl.style.display =\n",
              "          google.colab.kernel.accessAllowed ? 'block' : 'none';\n",
              "\n",
              "        async function convertToInteractive(key) {\n",
              "          const element = document.querySelector('#df-c3ddac3f-d076-4f6c-aeea-fd815c781bbd');\n",
              "          const dataTable =\n",
              "            await google.colab.kernel.invokeFunction('convertToInteractive',\n",
              "                                                     [key], {});\n",
              "          if (!dataTable) return;\n",
              "\n",
              "          const docLinkHtml = 'Like what you see? Visit the ' +\n",
              "            '<a target=\"_blank\" href=https://colab.research.google.com/notebooks/data_table.ipynb>data table notebook</a>'\n",
              "            + ' to learn more about interactive tables.';\n",
              "          element.innerHTML = '';\n",
              "          dataTable['output_type'] = 'display_data';\n",
              "          await google.colab.output.renderOutput(dataTable, element);\n",
              "          const docLink = document.createElement('div');\n",
              "          docLink.innerHTML = docLinkHtml;\n",
              "          element.appendChild(docLink);\n",
              "        }\n",
              "      </script>\n",
              "    </div>\n",
              "  </div>\n",
              "  "
            ]
          },
          "metadata": {},
          "execution_count": 75
        }
      ]
    },
    {
      "cell_type": "code",
      "source": [
        "test_Y_df.dropna(axis = 0, inplace = True)\n",
        "test_Y_df"
      ],
      "metadata": {
        "id": "a0O543eiKI7C",
        "colab": {
          "base_uri": "https://localhost:8080/",
          "height": 206
        },
        "outputId": "5da06fff-73fe-4185-c697-58ddf5b74878"
      },
      "execution_count": null,
      "outputs": [
        {
          "output_type": "execute_result",
          "data": {
            "text/plain": [
              "   Responsvity R (A W-1)\n",
              "0               0.000980\n",
              "1               0.000580\n",
              "2               0.024500\n",
              "3               0.000157\n",
              "4               0.024600"
            ],
            "text/html": [
              "\n",
              "  <div id=\"df-ca914447-cbdf-4159-bc96-f6c7dd3924cd\">\n",
              "    <div class=\"colab-df-container\">\n",
              "      <div>\n",
              "<style scoped>\n",
              "    .dataframe tbody tr th:only-of-type {\n",
              "        vertical-align: middle;\n",
              "    }\n",
              "\n",
              "    .dataframe tbody tr th {\n",
              "        vertical-align: top;\n",
              "    }\n",
              "\n",
              "    .dataframe thead th {\n",
              "        text-align: right;\n",
              "    }\n",
              "</style>\n",
              "<table border=\"1\" class=\"dataframe\">\n",
              "  <thead>\n",
              "    <tr style=\"text-align: right;\">\n",
              "      <th></th>\n",
              "      <th>Responsvity R (A W-1)</th>\n",
              "    </tr>\n",
              "  </thead>\n",
              "  <tbody>\n",
              "    <tr>\n",
              "      <th>0</th>\n",
              "      <td>0.000980</td>\n",
              "    </tr>\n",
              "    <tr>\n",
              "      <th>1</th>\n",
              "      <td>0.000580</td>\n",
              "    </tr>\n",
              "    <tr>\n",
              "      <th>2</th>\n",
              "      <td>0.024500</td>\n",
              "    </tr>\n",
              "    <tr>\n",
              "      <th>3</th>\n",
              "      <td>0.000157</td>\n",
              "    </tr>\n",
              "    <tr>\n",
              "      <th>4</th>\n",
              "      <td>0.024600</td>\n",
              "    </tr>\n",
              "  </tbody>\n",
              "</table>\n",
              "</div>\n",
              "      <button class=\"colab-df-convert\" onclick=\"convertToInteractive('df-ca914447-cbdf-4159-bc96-f6c7dd3924cd')\"\n",
              "              title=\"Convert this dataframe to an interactive table.\"\n",
              "              style=\"display:none;\">\n",
              "        \n",
              "  <svg xmlns=\"http://www.w3.org/2000/svg\" height=\"24px\"viewBox=\"0 0 24 24\"\n",
              "       width=\"24px\">\n",
              "    <path d=\"M0 0h24v24H0V0z\" fill=\"none\"/>\n",
              "    <path d=\"M18.56 5.44l.94 2.06.94-2.06 2.06-.94-2.06-.94-.94-2.06-.94 2.06-2.06.94zm-11 1L8.5 8.5l.94-2.06 2.06-.94-2.06-.94L8.5 2.5l-.94 2.06-2.06.94zm10 10l.94 2.06.94-2.06 2.06-.94-2.06-.94-.94-2.06-.94 2.06-2.06.94z\"/><path d=\"M17.41 7.96l-1.37-1.37c-.4-.4-.92-.59-1.43-.59-.52 0-1.04.2-1.43.59L10.3 9.45l-7.72 7.72c-.78.78-.78 2.05 0 2.83L4 21.41c.39.39.9.59 1.41.59.51 0 1.02-.2 1.41-.59l7.78-7.78 2.81-2.81c.8-.78.8-2.07 0-2.86zM5.41 20L4 18.59l7.72-7.72 1.47 1.35L5.41 20z\"/>\n",
              "  </svg>\n",
              "      </button>\n",
              "      \n",
              "  <style>\n",
              "    .colab-df-container {\n",
              "      display:flex;\n",
              "      flex-wrap:wrap;\n",
              "      gap: 12px;\n",
              "    }\n",
              "\n",
              "    .colab-df-convert {\n",
              "      background-color: #E8F0FE;\n",
              "      border: none;\n",
              "      border-radius: 50%;\n",
              "      cursor: pointer;\n",
              "      display: none;\n",
              "      fill: #1967D2;\n",
              "      height: 32px;\n",
              "      padding: 0 0 0 0;\n",
              "      width: 32px;\n",
              "    }\n",
              "\n",
              "    .colab-df-convert:hover {\n",
              "      background-color: #E2EBFA;\n",
              "      box-shadow: 0px 1px 2px rgba(60, 64, 67, 0.3), 0px 1px 3px 1px rgba(60, 64, 67, 0.15);\n",
              "      fill: #174EA6;\n",
              "    }\n",
              "\n",
              "    [theme=dark] .colab-df-convert {\n",
              "      background-color: #3B4455;\n",
              "      fill: #D2E3FC;\n",
              "    }\n",
              "\n",
              "    [theme=dark] .colab-df-convert:hover {\n",
              "      background-color: #434B5C;\n",
              "      box-shadow: 0px 1px 3px 1px rgba(0, 0, 0, 0.15);\n",
              "      filter: drop-shadow(0px 1px 2px rgba(0, 0, 0, 0.3));\n",
              "      fill: #FFFFFF;\n",
              "    }\n",
              "  </style>\n",
              "\n",
              "      <script>\n",
              "        const buttonEl =\n",
              "          document.querySelector('#df-ca914447-cbdf-4159-bc96-f6c7dd3924cd button.colab-df-convert');\n",
              "        buttonEl.style.display =\n",
              "          google.colab.kernel.accessAllowed ? 'block' : 'none';\n",
              "\n",
              "        async function convertToInteractive(key) {\n",
              "          const element = document.querySelector('#df-ca914447-cbdf-4159-bc96-f6c7dd3924cd');\n",
              "          const dataTable =\n",
              "            await google.colab.kernel.invokeFunction('convertToInteractive',\n",
              "                                                     [key], {});\n",
              "          if (!dataTable) return;\n",
              "\n",
              "          const docLinkHtml = 'Like what you see? Visit the ' +\n",
              "            '<a target=\"_blank\" href=https://colab.research.google.com/notebooks/data_table.ipynb>data table notebook</a>'\n",
              "            + ' to learn more about interactive tables.';\n",
              "          element.innerHTML = '';\n",
              "          dataTable['output_type'] = 'display_data';\n",
              "          await google.colab.output.renderOutput(dataTable, element);\n",
              "          const docLink = document.createElement('div');\n",
              "          docLink.innerHTML = docLinkHtml;\n",
              "          element.appendChild(docLink);\n",
              "        }\n",
              "      </script>\n",
              "    </div>\n",
              "  </div>\n",
              "  "
            ]
          },
          "metadata": {},
          "execution_count": 78
        }
      ]
    },
    {
      "cell_type": "code",
      "source": [
        "scalery_test.fit(test_Y_df)\n",
        "scalerY_test = scalery_test.transform(test_Y_df)"
      ],
      "metadata": {
        "id": "FKQu9RS1LdTc"
      },
      "execution_count": null,
      "outputs": []
    },
    {
      "cell_type": "code",
      "source": [
        "scalerY_test"
      ],
      "metadata": {
        "id": "JRX9zrVRL_PS",
        "colab": {
          "base_uri": "https://localhost:8080/"
        },
        "outputId": "6e0f8790-c36d-4c9f-fa99-984a73520796"
      },
      "execution_count": null,
      "outputs": [
        {
          "output_type": "execute_result",
          "data": {
            "text/plain": [
              "array([[0.03367017],\n",
              "       [0.01730557],\n",
              "       [0.99590885],\n",
              "       [0.        ],\n",
              "       [1.        ]])"
            ]
          },
          "metadata": {},
          "execution_count": 80
        }
      ]
    },
    {
      "cell_type": "code",
      "source": [
        "from sklearn.metrics import mean_absolute_error, mean_absolute_percentage_error, mean_squared_error\n",
        "predictions1_df "
      ],
      "metadata": {
        "id": "C0aCxAyfhn5P",
        "colab": {
          "base_uri": "https://localhost:8080/"
        },
        "outputId": "8b188e7b-feda-4b76-c72b-2f10b5f94b0c"
      },
      "execution_count": null,
      "outputs": [
        {
          "output_type": "execute_result",
          "data": {
            "text/plain": [
              "array([ 0.00053   ,  0.01775277,  0.0608125 , -0.00291574,  0.00027403],\n",
              "      dtype=float32)"
            ]
          },
          "metadata": {},
          "execution_count": 81
        }
      ]
    },
    {
      "cell_type": "code",
      "source": [
        "predictions1_df = pd.DataFrame(predictions1_df )"
      ],
      "metadata": {
        "id": "Sw1WcWRyRsbs"
      },
      "execution_count": null,
      "outputs": []
    },
    {
      "cell_type": "code",
      "source": [
        "predicted_value = scalery_test.inverse_transform(predictions1_df)\n",
        "predicted_value"
      ],
      "metadata": {
        "id": "p3dTmq49T8uZ",
        "colab": {
          "base_uri": "https://localhost:8080/"
        },
        "outputId": "cdb90103-7687-4486-b53f-152dbd2fc8fd"
      },
      "execution_count": null,
      "outputs": [
        {
          "output_type": "execute_result",
          "data": {
            "text/plain": [
              "array([[1.6995490e-04],\n",
              "       [5.9093087e-04],\n",
              "       [1.6434401e-03],\n",
              "       [8.5730571e-05],\n",
              "       [1.6369818e-04]], dtype=float32)"
            ]
          },
          "metadata": {},
          "execution_count": 83
        }
      ]
    },
    {
      "cell_type": "code",
      "source": [
        "#scalery_test.fit(scalerY_test)\n",
        "scalerY_test = scalery_test.inverse_transform(scalerY_test)"
      ],
      "metadata": {
        "id": "phnihScFPdSK"
      },
      "execution_count": null,
      "outputs": []
    },
    {
      "cell_type": "code",
      "source": [
        "scalerY_test"
      ],
      "metadata": {
        "id": "y3AjWBEKP24M",
        "colab": {
          "base_uri": "https://localhost:8080/"
        },
        "outputId": "9e45fa26-3ab5-4102-8bf9-a47b35eea252"
      },
      "execution_count": null,
      "outputs": [
        {
          "output_type": "execute_result",
          "data": {
            "text/plain": [
              "array([[0.00098 ],\n",
              "       [0.00058 ],\n",
              "       [0.0245  ],\n",
              "       [0.000157],\n",
              "       [0.0246  ]])"
            ]
          },
          "metadata": {},
          "execution_count": 85
        }
      ]
    },
    {
      "cell_type": "code",
      "source": [
        "mean_absolute_percentage_error(test_Y_df, predictions1_df)"
      ],
      "metadata": {
        "id": "m4Vwezf6hrgG",
        "colab": {
          "base_uri": "https://localhost:8080/"
        },
        "outputId": "7b940ed7-fc7d-4738-d676-afd2a397580a"
      },
      "execution_count": null,
      "outputs": [
        {
          "output_type": "execute_result",
          "data": {
            "text/plain": [
              "10.42199865385892"
            ]
          },
          "metadata": {},
          "execution_count": 86
        }
      ]
    },
    {
      "cell_type": "code",
      "source": [
        "mean_absolute_error(test_Y_df, predictions1_df)"
      ],
      "metadata": {
        "id": "PICc48fJz558",
        "colab": {
          "base_uri": "https://localhost:8080/"
        },
        "outputId": "0555d6ba-614b-4496-f4a8-9edbe6b6d309"
      },
      "execution_count": null,
      "outputs": [
        {
          "output_type": "execute_result",
          "data": {
            "text/plain": [
              "0.016266794573211667"
            ]
          },
          "metadata": {},
          "execution_count": 87
        }
      ]
    },
    {
      "cell_type": "code",
      "source": [
        "MSE = mean_squared_error(test_Y_df, predictions1_df)\n",
        "MSE"
      ],
      "metadata": {
        "id": "h-EYODX40Ba9",
        "colab": {
          "base_uri": "https://localhost:8080/"
        },
        "outputId": "b5f3d727-af90-413f-f064-3dee6c34bb86"
      },
      "execution_count": null,
      "outputs": [
        {
          "output_type": "execute_result",
          "data": {
            "text/plain": [
              "0.00044297974467895145"
            ]
          },
          "metadata": {},
          "execution_count": 88
        }
      ]
    },
    {
      "cell_type": "code",
      "source": [
        "import math\n",
        "RMSE = math.sqrt(MSE)\n",
        "RMSE"
      ],
      "metadata": {
        "id": "3JAhaLx-0NKf",
        "colab": {
          "base_uri": "https://localhost:8080/"
        },
        "outputId": "fcaeca59-088f-4d4d-e104-9c2f0c869e07"
      },
      "execution_count": null,
      "outputs": [
        {
          "output_type": "execute_result",
          "data": {
            "text/plain": [
              "0.021047083994676113"
            ]
          },
          "metadata": {},
          "execution_count": 89
        }
      ]
    }
  ]
}